{
 "cells": [
  {
   "cell_type": "code",
   "execution_count": 4,
   "metadata": {},
   "outputs": [
    {
     "name": "stdout",
     "output_type": "stream",
     "text": [
      "Downloading data from https://s3.amazonaws.com/text-datasets/reuters_word_index.json\n",
      "557056/550378 [==============================] - 1s 1us/step\n"
     ]
    },
    {
     "data": {
      "text/plain": [
       "'? generale de banque sa lt ? br and lt heller overseas corp of chicago have each taken 50 pct stakes in ? company sa ? factors generale de banque said in a statement it gave no financial details of the transaction sa ? ? turnover in 1986 was 17 5 billion belgian francs reuter 3'"
      ]
     },
     "execution_count": 4,
     "metadata": {},
     "output_type": "execute_result"
    }
   ],
   "source": [
    "from keras.datasets import reuters\n",
    "(train_data, train_labels), (test_data, test_labels) = reuters.load_data(num_words=10000)\n",
    "word_index = reuters.get_word_index()\n",
    "reverse_word_index = dict([(value, key) for (key, value) in word_index.items()])\n",
    "def decode_review(review):\n",
    "    return ' '.join([reverse_word_index.get(i - 3, '?') for i in review])\n",
    "decode_review(train_data[1])"
   ]
  },
  {
   "cell_type": "code",
   "execution_count": 6,
   "metadata": {},
   "outputs": [],
   "source": [
    "import numpy as np\n",
    "from keras.utils.np_utils import to_categorical\n",
    "\n",
    "def vectorize_sequences(sequences, dimension=10000):\n",
    "    results = np.zeros((len(sequences), dimension))\n",
    "    for i, sequence in enumerate(sequences):\n",
    "        results[i, sequence] = 1.\n",
    "    return results\n",
    "x_train = vectorize_sequences(train_data)\n",
    "x_test = vectorize_sequences(test_data)\n",
    "\n",
    "y_train_labels = to_categorical(train_labels)\n",
    "y_test_labels = to_categorical(test_labels)"
   ]
  },
  {
   "cell_type": "code",
   "execution_count": 8,
   "metadata": {},
   "outputs": [],
   "source": [
    "from keras import models\n",
    "from keras import layers\n",
    "model = models.Sequential()\n",
    "model.add(layers.Dense(64, activation='relu', input_shape=(10000,)))\n",
    "model.add(layers.Dense(64, activation='relu'))\n",
    "model.add(layers.Dense(46, activation='softmax'))\n",
    "model.compile(optimizer='rmsprop', loss='categorical_crossentropy', metrics=['accuracy'])"
   ]
  },
  {
   "cell_type": "code",
   "execution_count": 9,
   "metadata": {},
   "outputs": [
    {
     "name": "stdout",
     "output_type": "stream",
     "text": [
      "WARNING:tensorflow:From C:\\conda3\\lib\\site-packages\\tensorflow\\python\\ops\\math_ops.py:3066: to_int32 (from tensorflow.python.ops.math_ops) is deprecated and will be removed in a future version.\n",
      "Instructions for updating:\n",
      "Use tf.cast instead.\n",
      "Train on 7982 samples, validate on 1000 samples\n",
      "Epoch 1/20\n",
      "7982/7982 [==============================] - 2s 224us/step - loss: 2.5530 - acc: 0.5247 - val_loss: 1.7379 - val_acc: 0.6360\n",
      "Epoch 2/20\n",
      "7982/7982 [==============================] - 1s 142us/step - loss: 1.4267 - acc: 0.7097 - val_loss: 1.3155 - val_acc: 0.7190\n",
      "Epoch 3/20\n",
      "7982/7982 [==============================] - 1s 142us/step - loss: 1.0576 - acc: 0.7808 - val_loss: 1.1512 - val_acc: 0.7500\n",
      "Epoch 4/20\n",
      "7982/7982 [==============================] - 1s 144us/step - loss: 0.8310 - acc: 0.8255 - val_loss: 1.0609 - val_acc: 0.7630\n",
      "Epoch 5/20\n",
      "7982/7982 [==============================] - 1s 142us/step - loss: 0.6620 - acc: 0.8629 - val_loss: 0.9798 - val_acc: 0.7860\n",
      "Epoch 6/20\n",
      "7982/7982 [==============================] - 1s 143us/step - loss: 0.5285 - acc: 0.8905 - val_loss: 0.9438 - val_acc: 0.7890\n",
      "Epoch 7/20\n",
      "7982/7982 [==============================] - 1s 143us/step - loss: 0.4267 - acc: 0.9094 - val_loss: 0.9374 - val_acc: 0.7970\n",
      "Epoch 8/20\n",
      "7982/7982 [==============================] - 1s 141us/step - loss: 0.3421 - acc: 0.9260 - val_loss: 0.8832 - val_acc: 0.8090\n",
      "Epoch 9/20\n",
      "7982/7982 [==============================] - 1s 145us/step - loss: 0.2872 - acc: 0.9375 - val_loss: 0.9116 - val_acc: 0.8040\n",
      "Epoch 10/20\n",
      "7982/7982 [==============================] - 1s 150us/step - loss: 0.2389 - acc: 0.9448 - val_loss: 0.8961 - val_acc: 0.8130\n",
      "Epoch 11/20\n",
      "7982/7982 [==============================] - 1s 145us/step - loss: 0.2047 - acc: 0.9486 - val_loss: 0.9074 - val_acc: 0.8160\n",
      "Epoch 12/20\n",
      "7982/7982 [==============================] - 1s 140us/step - loss: 0.1828 - acc: 0.9506 - val_loss: 0.9394 - val_acc: 0.8140\n",
      "Epoch 13/20\n",
      "7982/7982 [==============================] - 1s 143us/step - loss: 0.1630 - acc: 0.9563 - val_loss: 0.9692 - val_acc: 0.8130\n",
      "Epoch 14/20\n",
      "7982/7982 [==============================] - 1s 144us/step - loss: 0.1484 - acc: 0.9555 - val_loss: 0.9621 - val_acc: 0.8020\n",
      "Epoch 15/20\n",
      "7982/7982 [==============================] - 1s 144us/step - loss: 0.1378 - acc: 0.9558 - val_loss: 0.9689 - val_acc: 0.8220\n",
      "Epoch 16/20\n",
      "7982/7982 [==============================] - 1s 143us/step - loss: 0.1278 - acc: 0.9580 - val_loss: 0.9609 - val_acc: 0.8140\n",
      "Epoch 17/20\n",
      "7982/7982 [==============================] - 1s 144us/step - loss: 0.1235 - acc: 0.9590 - val_loss: 0.9904 - val_acc: 0.8070\n",
      "Epoch 18/20\n",
      "7982/7982 [==============================] - 1s 143us/step - loss: 0.1205 - acc: 0.9564 - val_loss: 1.0285 - val_acc: 0.8120\n",
      "Epoch 19/20\n",
      "7982/7982 [==============================] - 1s 144us/step - loss: 0.1173 - acc: 0.9574 - val_loss: 1.0180 - val_acc: 0.8100\n",
      "Epoch 20/20\n",
      "7982/7982 [==============================] - 1s 142us/step - loss: 0.1082 - acc: 0.9597 - val_loss: 1.0615 - val_acc: 0.7950\n"
     ]
    }
   ],
   "source": [
    "x_val = x_train[:1000]\n",
    "partial_x_train = x_train[1000:]\n",
    "\n",
    "y_val = y_train_labels[:1000]\n",
    "partial_y_train = y_train_labels[1000:]\n",
    "\n",
    "history = model.fit(partial_x_train, partial_y_train, epochs=20, batch_size=512, validation_data=(x_val, y_val))"
   ]
  },
  {
   "cell_type": "code",
   "execution_count": 11,
   "metadata": {},
   "outputs": [
    {
     "data": {
      "image/png": "[encoded data removed]",
      "text/plain": [
       "<Figure size 432x288 with 1 Axes>"
      ]
     },
     "metadata": {
      "needs_background": "light"
     },
     "output_type": "display_data"
    }
   ],
   "source": [
    "import matplotlib.pyplot as plt\n",
    "loss = history.history['loss']\n",
    "val_loss = history.history['val_loss']\n",
    "\n",
    "epochs = range(1, len(loss) + 1)\n",
    "plt.plot(epochs, loss, 'bo', label='Training loss')\n",
    "plt.plot(epochs, val_loss, 'b', label='Validation loss')\n",
    "plt.title('Training and validation loss')\n",
    "plt.xlabel('Epochs')\n",
    "plt.ylabel('Loss')\n",
    "plt.legend()\n",
    "plt.show()"
   ]
  },
  {
   "cell_type": "code",
   "execution_count": 12,
   "metadata": {},
   "outputs": [
    {
     "data": {
      "image/png": "[encoded data removed]",
      "text/plain": [
       "<Figure size 432x288 with 1 Axes>"
      ]
     },
     "metadata": {
      "needs_background": "light"
     },
     "output_type": "display_data"
    }
   ],
   "source": [
    "acc = history.history['acc']\n",
    "val_acc = history.history['val_acc']\n",
    "\n",
    "epochs = range(1, len(acc) + 1)\n",
    "plt.clf()\n",
    "plt.plot(epochs, acc, 'bo', label='Training accuracy')\n",
    "plt.plot(epochs, val_acc, 'b', label='Validation accuracy')\n",
    "plt.title('Training and validation accuracy')\n",
    "plt.xlabel('Epochs')\n",
    "plt.ylabel('Accuracy')\n",
    "plt.legend()\n",
    "plt.show()"
   ]
  },
  {
   "cell_type": "code",
   "execution_count": 15,
   "metadata": {},
   "outputs": [
    {
     "name": "stdout",
     "output_type": "stream",
     "text": [
      "Train on 7982 samples, validate on 1000 samples\n",
      "Epoch 1/8\n",
      "7982/7982 [==============================] - 2s 211us/step - loss: 2.5590 - acc: 0.5529 - val_loss: 1.6584 - val_acc: 0.6580\n",
      "Epoch 2/8\n",
      "7982/7982 [==============================] - 1s 150us/step - loss: 1.3886 - acc: 0.7186 - val_loss: 1.2980 - val_acc: 0.7200\n",
      "Epoch 3/8\n",
      "7982/7982 [==============================] - 1s 148us/step - loss: 1.0521 - acc: 0.7779 - val_loss: 1.1447 - val_acc: 0.7440\n",
      "Epoch 4/8\n",
      "7982/7982 [==============================] - 1s 150us/step - loss: 0.8404 - acc: 0.8236 - val_loss: 1.0654 - val_acc: 0.7820\n",
      "Epoch 5/8\n",
      "7982/7982 [==============================] - 1s 150us/step - loss: 0.6704 - acc: 0.8564 - val_loss: 0.9961 - val_acc: 0.7810\n",
      "Epoch 6/8\n",
      "7982/7982 [==============================] - 1s 150us/step - loss: 0.5360 - acc: 0.8855 - val_loss: 0.9310 - val_acc: 0.8050\n",
      "Epoch 7/8\n",
      "7982/7982 [==============================] - 1s 151us/step - loss: 0.4324 - acc: 0.9083 - val_loss: 0.9002 - val_acc: 0.8110\n",
      "Epoch 8/8\n",
      "7982/7982 [==============================] - 1s 147us/step - loss: 0.3483 - acc: 0.9270 - val_loss: 0.9178 - val_acc: 0.8050\n",
      "2246/2246 [==============================] - 0s 148us/step\n"
     ]
    },
    {
     "data": {
      "text/plain": [
       "[1.002314229576267, 0.7791629563137982]"
      ]
     },
     "execution_count": 15,
     "metadata": {},
     "output_type": "execute_result"
    }
   ],
   "source": [
    "model = models.Sequential()\n",
    "model.add(layers.Dense(64, activation='relu', input_shape=(10000,)))\n",
    "model.add(layers.Dense(64, activation='relu'))\n",
    "model.add(layers.Dense(46, activation='softmax'))\n",
    "model.compile(optimizer='rmsprop', loss='categorical_crossentropy', metrics=['accuracy'])\n",
    "\n",
    "model.fit(partial_x_train, partial_y_train, epochs=8, batch_size=512, validation_data=(x_val, y_val))\n",
    "\n",
    "results = model.evaluate(x_test, y_test_labels)\n",
    "results"
   ]
  },
  {
   "cell_type": "code",
   "execution_count": 16,
   "metadata": {},
   "outputs": [
    {
     "data": {
      "text/plain": [
       "0.188780053428317"
      ]
     },
     "execution_count": 16,
     "metadata": {},
     "output_type": "execute_result"
    }
   ],
   "source": [
    "import copy\n",
    "test_labels_copy = copy.copy(test_labels)\n",
    "np.random.shuffle(test_labels_copy)\n",
    "hits_array = np.array(test_labels) == np.array(test_labels_copy)\n",
    "float(np.sum(hits_array) / len(test_labels))"
   ]
  },
  {
   "cell_type": "code",
   "execution_count": 17,
   "metadata": {},
   "outputs": [
    {
     "data": {
      "text/plain": [
       "array([4.2298716e-06, 5.3270076e-05, 5.9171985e-06, 9.9108475e-01,\n",
       "       5.5085993e-03, 2.1984379e-06, 2.8345132e-05, 7.6219130e-06,\n",
       "       1.4477492e-04, 2.5804746e-05, 1.1683193e-05, 5.3950876e-04,\n",
       "       1.1609888e-05, 1.4893843e-04, 1.1356530e-05, 4.5408967e-07,\n",
       "       4.2812794e-04, 6.1962673e-05, 3.9305494e-05, 6.5572670e-04,\n",
       "       6.4967200e-04, 2.6020756e-05, 1.4239139e-06, 9.9887679e-05,\n",
       "       9.4907991e-06, 3.7417467e-05, 4.9265145e-06, 5.4167890e-06,\n",
       "       2.3848175e-05, 2.3686971e-05, 1.9860925e-06, 4.1274619e-05,\n",
       "       3.6561290e-05, 2.8137183e-05, 2.1553949e-05, 8.6207899e-07,\n",
       "       7.1898387e-05, 1.0682431e-05, 1.2390904e-05, 3.0354429e-05,\n",
       "       6.8387317e-06, 6.3422696e-05, 4.1152598e-06, 1.7268312e-06,\n",
       "       5.5849273e-06, 6.7080446e-06], dtype=float32)"
      ]
     },
     "execution_count": 17,
     "metadata": {},
     "output_type": "execute_result"
    }
   ],
   "source": [
    "predictions = model.predict(x_test)\n",
    "predictions[0]"
   ]
  },
  {
   "cell_type": "code",
   "execution_count": null,
   "metadata": {},
   "outputs": [],
   "source": []
  }
 ],
 "metadata": {
  "kernelspec": {
   "display_name": "Python 3",
   "language": "python",
   "name": "python3"
  },
  "language_info": {
   "codemirror_mode": {
    "name": "ipython",
    "version": 3
   },
   "file_extension": ".py",
   "mimetype": "text/x-python",
   "name": "python",
   "nbconvert_exporter": "python",
   "pygments_lexer": "ipython3",
   "version": "3.7.3"
  }
 },
 "nbformat": 4,
 "nbformat_minor": 2
}
